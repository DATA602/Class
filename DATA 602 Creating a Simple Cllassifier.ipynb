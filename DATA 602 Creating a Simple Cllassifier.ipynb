{
 "cells": [
  {
   "cell_type": "code",
   "execution_count": null,
   "metadata": {},
   "outputs": [],
   "source": [
    "### Creating a simple text classifier with Naive Bayes  and TextBlob ###"
   ]
  },
  {
   "cell_type": "code",
   "execution_count": 29,
   "metadata": {},
   "outputs": [
    {
     "name": "stdout",
     "output_type": "stream",
     "text": [
      "The percent accuracy of the classifier applied to the test data is:\n",
      " 100.0\n"
     ]
    }
   ],
   "source": [
    "from textblob.classifiers import NaiveBayesClassifier\n",
    "\n",
    "#Create the train set\n",
    "\n",
    "train = [\n",
    "    ('dialogue', 'positive'),\n",
    "    ('talks', 'positive'),\n",
    "    ('community involvement', 'positive'),\n",
    "    ('community', 'positive'),\n",
    "    ('noise', 'negative'),\n",
    "    ('roundtable', 'positive'),\n",
    "    ('pollution', 'negative'),\n",
    "    ('aircraft noise', 'negative'),\n",
    "    ('vibration', 'negative'),\n",
    "    ('court actions', 'negative'),\n",
    "    ('damage', 'negative'),\n",
    "    ('upset', 'negative'),\n",
    "    ('flights over house', 'negative'),\n",
    "    ('ignore', 'negative'),\n",
    "    ('fight', 'negative'),\n",
    "    ('rattle', 'negative'),\n",
    "    ('violation', 'negative'),\n",
    "    ('sue', 'negative'),\n",
    "    ('emission', 'negative'),\n",
    "    ('sharing', 'positive'),\n",
    "    ('listen', 'positive'),\n",
    "    ('toxic', 'negative'),\n",
    "    ('impact', 'negative'),\n",
    "    ('nextgen noise', 'negative'),\n",
    "    ('noise abatement', 'positive'),\n",
    "    ('awake', 'negative'),\n",
    "    ('refuse', 'negative'),\n",
    "    ('ear-splitting noise', 'negative'),\n",
    "    ('complaints', 'negative'),\n",
    "    ('illegal', 'negative'),\n",
    "    ('sick', 'negative'),\n",
    "    ('distrust', 'negative'),\n",
    "    ('can’t sleep', 'negative'),\n",
    "    ('noise monitoring', 'positive'),\n",
    "    ('limit noise', 'positive'),\n",
    "    ('low flying aircraft', 'negative'),\n",
    "    ('trust', 'positive'),\n",
    "    ('policy change', 'positive'),\n",
    "    ('property affected by noise', 'negative'),\n",
    "    ('quality of life', 'positive'),\n",
    "    ('overhead flights', 'negative')\n",
    " ]\n",
    "\n",
    "# Create the test set\n",
    "\n",
    "test = [\n",
    "     ('community', 'positive'),\n",
    "     ('noise', 'negative'),\n",
    "     ('noise monitoring', 'positive'),\n",
    "     ('limit noise', 'positive'),\n",
    "     ('low flying aircraft', 'negative'),\n",
    "     ('trust', 'positive'),\n",
    "     ('policy change', 'positive'),\n",
    "     ('nextgen noise', 'negative'),\n",
    "     ('noise abatement', 'positive'),\n",
    "     ('awake', 'negative')\n",
    " ]\n",
    "\n",
    "cl = NaiveBayesClassifier(train)\n",
    "\n",
    "# Evaluate the classifier\n",
    "print(\"The percent accuracy of the classifier applied to the test data is:\\n\", round(cl.accuracy(test)*100,2))"
   ]
  },
  {
   "cell_type": "code",
   "execution_count": 28,
   "metadata": {},
   "outputs": [
    {
     "name": "stdout",
     "output_type": "stream",
     "text": [
      "The probability in percent that the statement is positive: \n",
      " 10.09\n"
     ]
    }
   ],
   "source": [
    "#Compute the probability distribution\n",
    "\n",
    "prob_dist = cl.prob_classify(\"I just can't believe all the stinking planes flying overhead and the noise they are making \")\n",
    "prob_dist.max()\n",
    "print(\"The probability in percent that the statement is positive: \\n\", round(prob_dist.prob(\"positive\")*100, 2))"
   ]
  },
  {
   "cell_type": "code",
   "execution_count": 30,
   "metadata": {},
   "outputs": [
    {
     "name": "stdout",
     "output_type": "stream",
     "text": [
      "The probability in percent that the statement is negative;\n",
      " 89.91\n"
     ]
    }
   ],
   "source": [
    "print(\"The probability in percent that the statement is negative;\\n\", round(prob_dist.prob(\"negative\")*100,2))"
   ]
  },
  {
   "cell_type": "code",
   "execution_count": 33,
   "metadata": {},
   "outputs": [
    {
     "name": "stdout",
     "output_type": "stream",
     "text": [
      "Most Informative Features\n",
      "         contains(noise) = True           positi : negati =      1.3 : 1.0\n",
      "     contains(community) = False          negati : positi =      1.2 : 1.0\n",
      "         contains(trust) = False          negati : positi =      1.1 : 1.0\n",
      "         contains(limit) = False          negati : positi =      1.1 : 1.0\n",
      "      contains(dialogue) = False          negati : positi =      1.1 : 1.0\n",
      "The polarity and subjectivity of the testimonial is: \n",
      " Sentiment(polarity=0.0, subjectivity=0.0)\n"
     ]
    }
   ],
   "source": [
    "#Most informative features\n",
    "cl.show_informative_features(5)\n",
    "#Classify by sentence\n",
    "from textblob import TextBlob\n",
    "testimonial = TextBlob(\"I just can't believe all the stinking planes flying overhead and the noise they are making\", classifier=cl)\n",
    "print(\"The polarity and subjectivity of the testimonial is: \\n\", testimonial.sentiment)"
   ]
  },
  {
   "cell_type": "code",
   "execution_count": 34,
   "metadata": {},
   "outputs": [
    {
     "name": "stdout",
     "output_type": "stream",
     "text": [
      "I just can't believe all the stinking planes flying overhead and the noise they are making\n",
      "The overall sentiment is: \n",
      " negative\n"
     ]
    }
   ],
   "source": [
    "testimonial.classify()\n",
    "\n",
    "for s in testimonial.sentences:\n",
    "     print(s)\n",
    "     print(\"The overall sentiment is: \\n\", s.classify())"
   ]
  }
 ],
 "metadata": {
  "kernelspec": {
   "display_name": "Python 3",
   "language": "python",
   "name": "python3"
  },
  "language_info": {
   "codemirror_mode": {
    "name": "ipython",
    "version": 3
   },
   "file_extension": ".py",
   "mimetype": "text/x-python",
   "name": "python",
   "nbconvert_exporter": "python",
   "pygments_lexer": "ipython3",
   "version": "3.7.4"
  }
 },
 "nbformat": 4,
 "nbformat_minor": 2
}
